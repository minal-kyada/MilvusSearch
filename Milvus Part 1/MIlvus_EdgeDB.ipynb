{
 "cells": [
  {
   "cell_type": "code",
   "execution_count": 1,
   "id": "a6b8bdca",
   "metadata": {},
   "outputs": [],
   "source": [
    "import csv\n",
    "import json\n",
    "import random\n",
    "import openai\n",
    "import time\n",
    "from pymilvus import connections, FieldSchema, CollectionSchema, DataType, Collection, utility\n",
    "import edgedb"
   ]
  },
  {
   "cell_type": "code",
   "execution_count": null,
   "id": "0f127c06",
   "metadata": {},
   "outputs": [],
   "source": [
    "COLLECTION_NAME = 'reviews'  # Collection name\n",
    "DIMENSION = 1536  # Embeddings size\n",
    "MILVUS_HOST = 'localhost'  # Milvus server URI\n",
    "MILVUS_PORT = '19530'\n",
    "OPENAI_ENGINE = 'text-embedding-ada-002'  # Which engine to use\n",
    "openai.api_key = 'ADD_YOUR_OPEN_API_KEY'  # Use your own Open AI API Key here\n",
    "QUERY_PARAM = {\n",
    "    \"metric_type\": \"L2\",\n",
    "    \"params\": {\"ef\": 64},\n",
    "}"
   ]
  },
  {
   "cell_type": "code",
   "execution_count": 3,
   "id": "0cd35c5a",
   "metadata": {},
   "outputs": [],
   "source": [
    "connections.connect(host=MILVUS_HOST, port=MILVUS_PORT)\n",
    "\n",
    "if utility.has_collection(COLLECTION_NAME):\n",
    "    utility.drop_collection(COLLECTION_NAME)\n",
    "\n",
    "fields = [\n",
    "    FieldSchema(name='id', dtype=DataType.VARCHAR, description='Ids', is_primary=True, auto_id=False,max_length=64000),\n",
    "    FieldSchema(name='Business_name', dtype=DataType.VARCHAR, description='Business_name',max_length=64000),\n",
    "    FieldSchema(name='zipcode', dtype=DataType.VARCHAR, description='Zipcode', max_length=64000),\n",
    "    FieldSchema(name='business_community', dtype=DataType.VARCHAR, description='Business Community', max_length=64000),\n",
    "    FieldSchema(name='rating', dtype=DataType.FLOAT, description='Rating'),\n",
    "    FieldSchema(name='review', dtype=DataType.VARCHAR, description='Review',max_length=64000),\n",
    "    FieldSchema(name='date_reviewed', dtype=DataType.VARCHAR,description='Date of the review' ,max_length=64000),\n",
    "    FieldSchema(name='embedding', dtype=DataType.FLOAT_VECTOR, description='Embedding vectors', dim=DIMENSION)\n",
    "]\n",
    "schema = CollectionSchema(fields=fields, description='Review collection')\n",
    "collection = Collection(name=COLLECTION_NAME, schema=schema)\n",
    "\n",
    "index_params = {\n",
    "    'index_type': 'IVF_FLAT',\n",
    "    'metric_type': 'L2',\n",
    "    'params': {'nlist': 1024}\n",
    "}\n",
    "collection.create_index(field_name=\"embedding\", index_params=index_params)\n",
    "collection.load()"
   ]
  },
  {
   "cell_type": "code",
   "execution_count": 4,
   "id": "87e7aca2",
   "metadata": {},
   "outputs": [],
   "source": [
    "client = edgedb.create_client()\n",
    "def fetch_reviews():\n",
    "    query = \"\"\"\n",
    "        SELECT Review {\n",
    "            id,\n",
    "            rating,\n",
    "            review,\n",
    "            review_date,\n",
    "            reviews_business: {\n",
    "            ID,\n",
    "            name,\n",
    "            in_communityArea:{\n",
    "              name\n",
    "            },\n",
    "              has_address: {\n",
    "                in_zipcode: {\n",
    "                    digits\n",
    "                },\n",
    "            },\n",
    "\n",
    "            },  \n",
    "        };\n",
    "    \"\"\"\n",
    "    result = client.query(query)\n",
    "    return result"
   ]
  },
  {
   "cell_type": "code",
   "execution_count": 5,
   "id": "48253702",
   "metadata": {},
   "outputs": [],
   "source": [
    "result=fetch_reviews()"
   ]
  },
  {
   "cell_type": "code",
   "execution_count": 6,
   "id": "04f8f2a0",
   "metadata": {},
   "outputs": [
    {
     "data": {
      "text/plain": [
       "Object{id := UUID('7a72c492-8bf9-11ee-8969-c3e93274e364'), rating := 5.0, review := \"Best rotisserie chicken I've ever had. Seasoned perfectly. Tender and delicious every time. Awesome job Chicken Man!\", review_date := datetime.datetime(2020, 11, 12, 6, 0, tzinfo=datetime.timezone.utc), reviews_business := Object{ID := 'rdE3vHw6ojctlpYftl-Hkg', name := 'Country Grill Chicagoland', in_communityArea := Object{name := 'Chicago'}, has_address := Object{in_zipcode := Object{digits := '60450'}}}}"
      ]
     },
     "execution_count": 6,
     "metadata": {},
     "output_type": "execute_result"
    }
   ],
   "source": [
    "result[0]"
   ]
  },
  {
   "cell_type": "code",
   "execution_count": null,
   "id": "7612bf1c",
   "metadata": {},
   "outputs": [],
   "source": [
    "# Fetch embeddings for each Review to insert into Milvus\n",
    "from openai import OpenAI\n",
    "openAiClient = OpenAI(api_key='ADD_YOUR_OPEN_API_KEY')\n",
    "def embed(text_to_embed):\n",
    "    # Embed a line of text\n",
    "    response = openAiClient.embeddings.create(input=text_to_embed, model=OPENAI_ENGINE)\n",
    "\n",
    "    # Return the list of embeddings\n",
    "    return response.data[0].embedding\n"
   ]
  },
  {
   "cell_type": "code",
   "execution_count": 8,
   "id": "30f734a4",
   "metadata": {},
   "outputs": [
    {
     "name": "stderr",
     "output_type": "stream",
     "text": [
      "100%|███████████████████████████████████████| 5709/5709 [47:11<00:00,  2.02it/s]\n"
     ]
    }
   ],
   "source": [
    "from tqdm import tqdm\n",
    "data = [[],[],[],[],[],[],[],[]]\n",
    "BATCH_SIZE=100\n",
    "for i in tqdm(range(0,len(result))):\n",
    "    if  result[i]!=None and result[i].reviews_business!=None and result[i].review!='' and result[i].reviews_business.has_address!=None and result[i].reviews_business.in_communityArea!=None and result[i].reviews_business.has_address.in_zipcode!=None:\n",
    "        data[0].append(result[i].reviews_business.ID)\n",
    "        data[1].append(result[i].reviews_business.name or '')\n",
    "        data[2].append(result[i].reviews_business.has_address.in_zipcode.digits or '')\n",
    "        data[3].append(result[i].reviews_business.in_communityArea.name or '')\n",
    "        data[4].append(result[i].rating)\n",
    "        data[5].append(result[i].review or '')\n",
    "        formatted_date = result[i].review_date.strftime(\"%Y-%m-%dT%H:%M:%SZ\")\n",
    "        data[6].append(formatted_date or '')\n",
    "        data[7].append(embed(data[5]))\n",
    "    if len(data[0])%BATCH_SIZE==0:\n",
    "#         data[6].append(embed(data[4]))\n",
    "        collection.insert(data)\n",
    "        data = [[],[],[],[],[],[],[],[]]\n",
    "    \n",
    "if len(data[0])!=0:\n",
    "#        data[6].append(embed(data[4]))\n",
    "       collection.insert(data)\n",
    "       data = [[],[],[],[],[],[],[],[]]\n"
   ]
  },
  {
   "cell_type": "code",
   "execution_count": 9,
   "id": "b15c104f",
   "metadata": {},
   "outputs": [],
   "source": [
    "# Filtered Search Function\n",
    "def query(query, top_k = 5):\n",
    "    text, expr= query\n",
    "    res = collection.search([embed(text)], anns_field='embedding', expr=expr, param=QUERY_PARAM, limit = top_k, output_fields=['id', 'zipcode', 'business_community', 'rating', 'review', 'date_reviewed',\"Business_name\"])\n",
    "    for i, hit in enumerate(res):\n",
    "        print(f'\\nDisplaying Top {top_k} Results for query \"{text}\"')\n",
    "        for ii, hits in enumerate(hit):\n",
    "            print('\\t' + 'Rank:', ii + 1, '| Score:', hits.score)\n",
    "            print('\\t\\t' + '  Review:', hits.entity.get('review'))\n",
    "            print('\\t\\t' + '  Business_name:', hits.entity.get('Business_name'))\n",
    "            print('\\t\\t' + '  Community Area:', hits.entity.get('business_community'))\n",
    "            print('\\t\\t' + '  Rating:', hits.entity.get('rating'))\n",
    "            print('\\t\\t' + '  Date of review:', hits.entity.get('date_reviewed'))\n",
    "            print(\"\\n\")\n",
    "            \n",
    "            \n",
    "    \n",
    "            \n"
   ]
  },
  {
   "cell_type": "code",
   "execution_count": null,
   "id": "7060c147",
   "metadata": {},
   "outputs": [],
   "source": []
  },
  {
   "cell_type": "code",
   "execution_count": 21,
   "id": "923e166a",
   "metadata": {},
   "outputs": [
    {
     "name": "stdout",
     "output_type": "stream",
     "text": [
      "\n",
      "Displaying Top 5 Results for query \"Chicago Style Hotdogs\"\n",
      "\tRank: 1 | Score: 0.34424567222595215\n",
      "\t\t  Review: They make the best Vanilla Cappuccino in town ! I love this joint , also the honey ginger wellness shot is fantastic!\n",
      "\t\t  Business_name: Kafe De Kasa\n",
      "\t\t  Community Area: Chicago\n",
      "\t\t  Rating: 5.0\n",
      "\t\t  Date of review: 2023-11-04T05:00:00Z\n",
      "\n",
      "\n",
      "\tRank: 2 | Score: 0.34424567222595215\n",
      "\t\t  Review: These sandwiches are excellent!\n",
      "\n",
      "My favorite is the tuna. They are a bit pricy, but worth it. They are big sandwiches and will fill you up.\n",
      "\n",
      "It's best to...\n",
      "\t\t  Business_name: Nonna's Pizza & Sandwiches\n",
      "\t\t  Community Area: Chicago\n",
      "\t\t  Rating: 5.0\n",
      "\t\t  Date of review: 2023-10-30T05:00:00Z\n",
      "\n",
      "\n",
      "\tRank: 3 | Score: 0.34424567222595215\n",
      "\t\t  Review: First: The best Argentine fusion hamburgers in the Chicago suburbs. \n",
      "\n",
      "Second: Francia... \n",
      "\n",
      "Muchachos...\n",
      "\t\t  Business_name: Asadoras Argentina Burgers\n",
      "\t\t  Community Area: Chicago\n",
      "\t\t  Rating: 5.0\n",
      "\t\t  Date of review: 2023-11-01T05:00:00Z\n",
      "\n",
      "\n",
      "\tRank: 4 | Score: 0.3648416996002197\n",
      "\t\t  Review: great place for breakfast, and biscuits are unbelievably great! Super clean, great staff.\n",
      "\t\t  Business_name: Inspiration Kitchens\n",
      "\t\t  Community Area: Chicago\n",
      "\t\t  Rating: 5.0\n",
      "\t\t  Date of review: 2023-11-04T05:00:00Z\n",
      "\n",
      "\n",
      "\tRank: 5 | Score: 0.3648416996002197\n",
      "\t\t  Review: Lola's is the perfect restaurant for an after work dinner. The west loop has so many restaurants to choose from and Lola's is definitely a good choice. I...\n",
      "\t\t  Business_name: Lola’s Restaurant & Bar\n",
      "\t\t  Community Area: Chicago\n",
      "\t\t  Rating: 5.0\n",
      "\t\t  Date of review: 2023-10-30T05:00:00Z\n",
      "\n",
      "\n"
     ]
    }
   ],
   "source": [
    "# “Chicago Style Hotdogs” reviews for the date between 10/29/2023 and 11/5/2023.\n",
    "\n",
    "query(('Chicago Style Hotdogs','date_reviewed>=\"2023-10-29T00:00:00Z\" and date_reviewed<=\"2023-11-05T00:00:00Z\"'), top_k=5)"
   ]
  },
  {
   "cell_type": "code",
   "execution_count": null,
   "id": "84b0fc14",
   "metadata": {},
   "outputs": [],
   "source": []
  },
  {
   "cell_type": "code",
   "execution_count": 23,
   "id": "88030a77",
   "metadata": {
    "scrolled": true
   },
   "outputs": [
    {
     "name": "stdout",
     "output_type": "stream",
     "text": [
      "\n",
      "Displaying Top 5 Results for query \"Steak\"\n"
     ]
    }
   ],
   "source": [
    "# Top businesses that offer Steak in Community Area The Loop.\n",
    "query(('Steak', 'business_community like \\\"The Loop%\\\"'), top_k=5)"
   ]
  },
  {
   "cell_type": "code",
   "execution_count": null,
   "id": "55b60ece",
   "metadata": {},
   "outputs": [],
   "source": []
  },
  {
   "cell_type": "code",
   "execution_count": 24,
   "id": "e884274c",
   "metadata": {
    "scrolled": true
   },
   "outputs": [
    {
     "name": "stdout",
     "output_type": "stream",
     "text": [
      "\n",
      "Displaying Top 5 Results for query \"Hot Dogs\"\n",
      "\tRank: 1 | Score: 0.3671034574508667\n",
      "\t\t  Review: Good bar with nice drinks. Seating is fairly limited and it's a strange venue with the theater right there. Amazing intermission / pre-theater bar, but a...\n",
      "\t\t  Business_name: Front Bar\n",
      "\t\t  Community Area: Lincoln Park\n",
      "\t\t  Rating: 4.0\n",
      "\t\t  Date of review: 2023-06-26T05:00:00Z\n",
      "\n",
      "\n",
      "\tRank: 2 | Score: 0.3672153949737549\n",
      "\t\t  Review: This was my first time going to Chicago and my friend and I came here for breakfast! The inside of the restaurant is pretty colorful and it feels fun!...\n",
      "\t\t  Business_name: Dash of Salt and Pepper\n",
      "\t\t  Community Area: Lincoln Park\n",
      "\t\t  Rating: 4.0\n",
      "\t\t  Date of review: 2023-09-11T05:00:00Z\n",
      "\n",
      "\n"
     ]
    }
   ],
   "source": [
    "#Top businesses that offer Hot Dogs in Community Area Lincoln Park\n",
    "query(('Hot Dogs', 'business_community like \\\"Lincoln Park%\\\"'), top_k=5)"
   ]
  },
  {
   "cell_type": "code",
   "execution_count": null,
   "id": "5f6407a5",
   "metadata": {},
   "outputs": [],
   "source": []
  },
  {
   "cell_type": "code",
   "execution_count": 25,
   "id": "5e86f4e6",
   "metadata": {},
   "outputs": [
    {
     "name": "stdout",
     "output_type": "stream",
     "text": [
      "\n",
      "Displaying Top 5 Results for query \"Chicago HotDogs\"\n",
      "\tRank: 1 | Score: 0.3360784947872162\n",
      "\t\t  Review: Food was amazing and fully paired with Macallan whiskey pours.  The service was 5 stars. The team was very professional.  The ambiance is subdued and chic....\n",
      "\t\t  Business_name: M Lounge\n",
      "\t\t  Community Area: Near South Side\n",
      "\t\t  Rating: 5.0\n",
      "\t\t  Date of review: 2023-06-25T05:00:00Z\n",
      "\n",
      "\n",
      "\tRank: 2 | Score: 0.36762499809265137\n",
      "\t\t  Review: Cool thing to look at if having a few minutes to look around. If you ever have been on this part of Wabash you have noticed the murals that are colorful....\n",
      "\t\t  Business_name: Wabash Arts Corridor\n",
      "\t\t  Community Area: Chicago\n",
      "\t\t  Rating: 5.0\n",
      "\t\t  Date of review: 2023-03-02T06:00:00Z\n",
      "\n",
      "\n",
      "\tRank: 3 | Score: 0.36766761541366577\n",
      "\t\t  Review: Quality/Quantity - Museum on the water.\n",
      "Sadly when we got here, they were already closed for a private event. \n",
      "A wedding, should we crash...?\n",
      "\n",
      "So we decided...\n",
      "\t\t  Business_name: Museum Campus\n",
      "\t\t  Community Area: Near South Side\n",
      "\t\t  Rating: 4.0\n",
      "\t\t  Date of review: 2023-08-14T05:00:00Z\n",
      "\n",
      "\n",
      "\tRank: 4 | Score: 0.36766761541366577\n",
      "\t\t  Review: When I visited Southern France, I dipped my toe in San Sebastian Spain. Unfortunately, I didn't have time to do the true Spanish tapas experience.\n",
      "\n",
      "I was...\n",
      "\t\t  Business_name: La Bodega\n",
      "\t\t  Community Area: Chicago\n",
      "\t\t  Rating: 5.0\n",
      "\t\t  Date of review: 2018-07-16T05:00:00Z\n",
      "\n",
      "\n",
      "\tRank: 5 | Score: 0.367729514837265\n",
      "\t\t  Review: The Chicago skyline is one of best skylines of any major city in the US. With it's combination of skyscrapers and characteristic buildings it provides a...\n",
      "\t\t  Business_name: Chicago Skyline\n",
      "\t\t  Community Area: Near South Side\n",
      "\t\t  Rating: 5.0\n",
      "\t\t  Date of review: 2021-12-30T06:00:00Z\n",
      "\n",
      "\n"
     ]
    }
   ],
   "source": [
    "# Top businesses that offer Chicago Hot Dogs in Zip-Code 60605 and have ratings greater than 3 stars.\n",
    "query(('Chicago HotDogs', 'zipcode==\"60605\" and rating>3'), top_k=5)"
   ]
  },
  {
   "cell_type": "code",
   "execution_count": null,
   "id": "2b6a1c64",
   "metadata": {},
   "outputs": [],
   "source": []
  }
 ],
 "metadata": {
  "kernelspec": {
   "display_name": "Python 3 (ipykernel)",
   "language": "python",
   "name": "python3"
  },
  "language_info": {
   "codemirror_mode": {
    "name": "ipython",
    "version": 3
   },
   "file_extension": ".py",
   "mimetype": "text/x-python",
   "name": "python",
   "nbconvert_exporter": "python",
   "pygments_lexer": "ipython3",
   "version": "3.11.4"
  },
  "vp": {
   "vp_config_version": "1.0.0",
   "vp_menu_width": 273,
   "vp_note_display": false,
   "vp_note_width": 0,
   "vp_position": {
    "width": 278
   },
   "vp_section_display": false,
   "vp_signature": "VisualPython"
  }
 },
 "nbformat": 4,
 "nbformat_minor": 5
}
